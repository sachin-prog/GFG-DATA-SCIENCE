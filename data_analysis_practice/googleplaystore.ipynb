{
 "cells": [
  {
   "cell_type": "code",
   "execution_count": 8,
   "metadata": {},
   "outputs": [],
   "source": [
    "import pandas as pd\n",
    "import numpy as np\n",
    "from sklearn.impute import SimpleImputer\n",
    "\n",
    "df = pd.read_csv('googleplaystore.csv')\n",
    "impute=SimpleImputer(missing_values=np.nan,strategy='mean')\n",
    "\n",
    "impute.fit(df.iloc[:,2:3].values)\n",
    "df.iloc[:,2:3]=impute.transform(df.iloc[:,2:3].values)\n",
    "\n",
    "\n",
    "\n"
   ]
  },
  {
   "cell_type": "code",
   "execution_count": 19,
   "metadata": {},
   "outputs": [
    {
     "name": "stdout",
     "output_type": "stream",
     "text": [
      "<class 'pandas.core.frame.DataFrame'>\n",
      "RangeIndex: 10841 entries, 0 to 10840\n",
      "Data columns (total 13 columns):\n",
      " #   Column          Non-Null Count  Dtype  \n",
      "---  ------          --------------  -----  \n",
      " 0   App             10841 non-null  object \n",
      " 1   Category        10841 non-null  object \n",
      " 2   Rating          10841 non-null  float64\n",
      " 3   Reviews         10841 non-null  object \n",
      " 4   Size            10841 non-null  object \n",
      " 5   Installs        10841 non-null  object \n",
      " 6   Type            10840 non-null  object \n",
      " 7   Price           10841 non-null  object \n",
      " 8   Content Rating  10840 non-null  object \n",
      " 9   Genres          10841 non-null  object \n",
      " 10  Last Updated    10841 non-null  object \n",
      " 11  Current Ver     10833 non-null  object \n",
      " 12  Android Ver     10838 non-null  object \n",
      "dtypes: float64(1), object(12)\n",
      "memory usage: 1.1+ MB\n"
     ]
    }
   ],
   "source": []
  },
  {
   "attachments": {},
   "cell_type": "markdown",
   "metadata": {},
   "source": [
    "How many apps are free \n"
   ]
  },
  {
   "cell_type": "code",
   "execution_count": 30,
   "metadata": {},
   "outputs": [
    {
     "name": "stdout",
     "output_type": "stream",
     "text": [
      "There are a total number of 10039 free and 800 paid apps\n"
     ]
    }
   ],
   "source": [
    "df.head()\n",
    "count=0\n",
    "count1=0\n",
    "for i in df['Type']:\n",
    "    if (i=='Free'):\n",
    "        count+=1\n",
    "for x in df['Type']:\n",
    "    if (x == 'Paid'):\n",
    "        count1+=1\n",
    "print(f\"There are a total number of {count} free and {count1} paid apps\")\n"
   ]
  },
  {
   "attachments": {},
   "cell_type": "markdown",
   "metadata": {},
   "source": [
    "How many apps rating having greater than 4"
   ]
  },
  {
   "cell_type": "code",
   "execution_count": 28,
   "metadata": {},
   "outputs": [
    {
     "name": "stdout",
     "output_type": "stream",
     "text": [
      "8275 Apps having rating more than 4\n"
     ]
    }
   ],
   "source": [
    "count=0\n",
    "for i in df['Rating']:\n",
    "    if (i > 4.0):\n",
    "        count+=1\n",
    "print(count,\"Apps having rating more than 4\")"
   ]
  },
  {
   "attachments": {},
   "cell_type": "markdown",
   "metadata": {},
   "source": [
    "No of unique category "
   ]
  },
  {
   "cell_type": "code",
   "execution_count": 31,
   "metadata": {},
   "outputs": [
    {
     "name": "stdout",
     "output_type": "stream",
     "text": [
      "There are 34 of unique category \n"
     ]
    }
   ],
   "source": [
    "n=df['Category'].nunique()\n",
    "print(f\"There are {n} of unique category \")"
   ]
  },
  {
   "attachments": {},
   "cell_type": "markdown",
   "metadata": {},
   "source": [
    "How many apps are there in \"ART_AND_DESIGN\" category"
   ]
  },
  {
   "cell_type": "code",
   "execution_count": 32,
   "metadata": {},
   "outputs": [
    {
     "name": "stdout",
     "output_type": "stream",
     "text": [
      "There are 65 Apps in ART_AND_DESIGN category\n"
     ]
    }
   ],
   "source": [
    "count=0\n",
    "for i in df['Category']:\n",
    "    if(i=='ART_AND_DESIGN'):\n",
    "        count+=1\n",
    "print(f\"There are {count} Apps in ART_AND_DESIGN category\")"
   ]
  },
  {
   "attachments": {},
   "cell_type": "markdown",
   "metadata": {},
   "source": [
    "Total no of apps in each category"
   ]
  },
  {
   "cell_type": "code",
   "execution_count": 33,
   "metadata": {},
   "outputs": [
    {
     "name": "stdout",
     "output_type": "stream",
     "text": [
      "{'ART_AND_DESIGN': 65, 'AUTO_AND_VEHICLES': 150, 'BEAUTY': 203, 'BOOKS_AND_REFERENCE': 434, 'BUSINESS': 894, 'COMICS': 954, 'COMMUNICATION': 1341, 'DATING': 1575, 'EDUCATION': 1731, 'ENTERTAINMENT': 1880, 'EVENTS': 1944, 'FINANCE': 2310, 'FOOD_AND_DRINK': 2437, 'HEALTH_AND_FITNESS': 2778, 'HOUSE_AND_HOME': 2866, 'LIBRARIES_AND_DEMO': 2951, 'LIFESTYLE': 3333, 'GAME': 4477, 'FAMILY': 6449, 'MEDICAL': 6912, 'SOCIAL': 7207, 'SHOPPING': 7467, 'PHOTOGRAPHY': 7802, 'SPORTS': 8186, 'TRAVEL_AND_LOCAL': 8444, 'TOOLS': 9287, 'PERSONALIZATION': 9679, 'PRODUCTIVITY': 10103, 'PARENTING': 10163, 'WEATHER': 10245, 'VIDEO_PLAYERS': 10420, 'NEWS_AND_MAGAZINES': 10703, 'MAPS_AND_NAVIGATION': 10840, '1.9': 10841}\n"
     ]
    }
   ],
   "source": [
    "count=0\n",
    "categories={}\n",
    "for name in df['Category'].unique():\n",
    "    for i in df['Category']:\n",
    "        if(i==name):\n",
    "            count+=1\n",
    "    categories[name]=count\n",
    "print(categories)        \n",
    "    "
   ]
  },
  {
   "attachments": {},
   "cell_type": "markdown",
   "metadata": {},
   "source": [
    "Total no of apps in Content Rating"
   ]
  },
  {
   "cell_type": "code",
   "execution_count": 35,
   "metadata": {},
   "outputs": [
    {
     "name": "stdout",
     "output_type": "stream",
     "text": [
      "{'Everyone': 8714, 'Teen': 9922, 'Everyone 10+': 10336, 'Mature 17+': 10835, 'Adults only 18+': 10838, 'Unrated': 10840, nan: 10840}\n"
     ]
    }
   ],
   "source": [
    "count=0\n",
    "content_rating={}\n",
    "for name in df['Content Rating'].unique():\n",
    "    for i in df['Content Rating']:\n",
    "        if (i==name):\n",
    "            count+=1\n",
    "    content_rating[name]=count\n",
    "print(content_rating)"
   ]
  },
  {
   "attachments": {},
   "cell_type": "markdown",
   "metadata": {},
   "source": [
    "How many free apps in art_and_design?"
   ]
  },
  {
   "cell_type": "code",
   "execution_count": 3,
   "metadata": {},
   "outputs": [
    {
     "name": "stdout",
     "output_type": "stream",
     "text": [
      "62\n"
     ]
    }
   ],
   "source": [
    "df_pr=df[df['Category']=='ART_AND_DESIGN']\n",
    "print(len(df_pr[df_pr['Type']=='Free']))"
   ]
  },
  {
   "attachments": {},
   "cell_type": "markdown",
   "metadata": {},
   "source": [
    "List all the free apps with rating more then 4.5 and category is FAMILY?"
   ]
  },
  {
   "cell_type": "code",
   "execution_count": 6,
   "metadata": {},
   "outputs": [
    {
     "name": "stdout",
     "output_type": "stream",
     "text": [
      "2020     Super ABC! Learning games for kids! Preschool ...\n",
      "2023                                       Candy Pop Story\n",
      "2029                           Dog Run - Pet Dog Simulator\n",
      "2032       Puzzle Kids - Animals Shapes and Jigsaw Puzzles\n",
      "2040          No. Color - Color by Number, Number Coloring\n",
      "                               ...                        \n",
      "10691                                               Pin-fo\n",
      "10801                                  Fr Ignacio Outreach\n",
      "10809                Castle Clash: RPG War and Strategy FR\n",
      "10820                                      Fr. Daoud Lamei\n",
      "10837                     Fr. Mike Schmitz Audio Teachings\n",
      "Name: App, Length: 314, dtype: object\n"
     ]
    }
   ],
   "source": [
    "df_p=df[df['Category']=='FAMILY']\n",
    "df_p=df_p[df_p['Rating']>4.5]\n",
    "df_p=df_p[df_p['Type']=='Free']\n",
    "print(df_p['App'])\n"
   ]
  },
  {
   "attachments": {},
   "cell_type": "markdown",
   "metadata": {},
   "source": [
    "How many paid apps are there in each category in Descending Order?"
   ]
  },
  {
   "cell_type": "code",
   "execution_count": 14,
   "metadata": {},
   "outputs": [
    {
     "data": {
      "text/plain": [
       "Category\n",
       "FAMILY                 191\n",
       "MEDICAL                109\n",
       "GAME                    83\n",
       "PERSONALIZATION         83\n",
       "TOOLS                   78\n",
       "BOOKS_AND_REFERENCE     28\n",
       "PRODUCTIVITY            28\n",
       "COMMUNICATION           27\n",
       "SPORTS                  24\n",
       "PHOTOGRAPHY             22\n",
       "LIFESTYLE               19\n",
       "FINANCE                 17\n",
       "HEALTH_AND_FITNESS      16\n",
       "BUSINESS                14\n",
       "TRAVEL_AND_LOCAL        12\n",
       "WEATHER                  8\n",
       "DATING                   7\n",
       "MAPS_AND_NAVIGATION      5\n",
       "EDUCATION                4\n",
       "VIDEO_PLAYERS            4\n",
       "AUTO_AND_VEHICLES        3\n",
       "SOCIAL                   3\n",
       "ART_AND_DESIGN           3\n",
       "NEWS_AND_MAGAZINES       2\n",
       "PARENTING                2\n",
       "FOOD_AND_DRINK           2\n",
       "SHOPPING                 2\n",
       "ENTERTAINMENT            2\n",
       "LIBRARIES_AND_DEMO       1\n",
       "EVENTS                   1\n",
       "Name: Type, dtype: int64"
      ]
     },
     "execution_count": 14,
     "metadata": {},
     "output_type": "execute_result"
    }
   ],
   "source": [
    "df_pr = df[df['Type'] == 'Paid']\n",
    "\n",
    "df_pr.groupby('Category').count()['Type'].sort_values(ascending = False)"
   ]
  }
 ],
 "metadata": {
  "kernelspec": {
   "display_name": "jup_notebook",
   "language": "python",
   "name": "python3"
  },
  "language_info": {
   "codemirror_mode": {
    "name": "ipython",
    "version": 3
   },
   "file_extension": ".py",
   "mimetype": "text/x-python",
   "name": "python",
   "nbconvert_exporter": "python",
   "pygments_lexer": "ipython3",
   "version": "3.10.6"
  },
  "orig_nbformat": 4
 },
 "nbformat": 4,
 "nbformat_minor": 2
}
